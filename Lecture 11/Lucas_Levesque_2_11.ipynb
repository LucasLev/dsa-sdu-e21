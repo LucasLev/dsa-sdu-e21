{
 "cells": [
  {
   "cell_type": "markdown",
   "metadata": {},
   "source": [
    "## Exercise 1"
   ]
  },
  {
   "cell_type": "markdown",
   "metadata": {},
   "source": [
    "![The right tree](Exercice_1_Lucas.png)"
   ]
  },
  {
   "cell_type": "markdown",
   "metadata": {},
   "source": [
    "## Ex.2\n",
    "\n",
    "Give an implementation of the ``num_children`` method within the class ``BinaryTree``.\n"
   ]
  },
  {
   "cell_type": "code",
   "execution_count": null,
   "metadata": {},
   "outputs": [],
   "source": [
    "def num_children(self, p):\n",
    "    \"\"\"Return the number of children that Position p has.\"\"\"\n",
    "    a = 0\n",
    "    for i in self.children(p) :\n",
    "        a+=1\n",
    "    return a"
   ]
  }
 ],
 "metadata": {
  "language_info": {
   "name": "python"
  },
  "orig_nbformat": 4
 },
 "nbformat": 4,
 "nbformat_minor": 2
}
