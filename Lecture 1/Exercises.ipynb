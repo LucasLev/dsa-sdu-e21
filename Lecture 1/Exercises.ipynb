{
 "cells": [
  {
   "cell_type": "markdown",
   "source": [
    "# Exercises, Lecture 1"
   ],
   "metadata": {}
  },
  {
   "cell_type": "markdown",
   "source": [
    "## Exercise 1"
   ],
   "metadata": {}
  },
  {
   "cell_type": "code",
   "execution_count": null,
   "source": [
    "class Flower :\r\n",
    "    \"\"\"This represents a flower\r\n",
    "    \"\"\"\r\n",
    "    def __init__(self, name:str, petalNumber:int, price:float) -> None:\r\n",
    "        \"\"\"Initialize a new flower\r\n",
    "\r\n",
    "        Args:\r\n",
    "            name (str): The name of the flower\r\n",
    "            petalNumber (int): The number of petals of the flower\r\n",
    "            price (float): The price of the flower\r\n",
    "        \"\"\"\r\n",
    "        self._name=name\r\n",
    "        self._petalNumber=petalNumber\r\n",
    "        self._price=price\r\n",
    "        pass\r\n",
    "\r\n",
    "    def getName(self)-> str :\r\n",
    "        \"\"\"Returns the name of the flower\r\n",
    "\r\n",
    "        Returns:\r\n",
    "            str: the name of the flower\r\n",
    "        \"\"\"\r\n",
    "        return self._name\r\n",
    "\r\n",
    "    def getPetalNumber(self) -> int :\r\n",
    "        \"\"\"Returns the number of petals of the flower\r\n",
    "\r\n",
    "        Returns:\r\n",
    "            int: the number of petals of the flower\r\n",
    "        \"\"\"\r\n",
    "        return self._petalNumber\r\n",
    "\r\n",
    "    def getPrice(self) -> float :\r\n",
    "        \"\"\"Returns the price of the flower\r\n",
    "\r\n",
    "        Returns:\r\n",
    "            float: the price of the flower\r\n",
    "        \"\"\"\r\n",
    "        return self._price\r\n",
    "\r\n",
    "    def setName(self, newName : str) -> str :\r\n",
    "        \"\"\"Changes the name of the flower\r\n",
    "\r\n",
    "        Args:\r\n",
    "            newName (str): the new name of the flower\r\n",
    "\r\n",
    "        Returns:\r\n",
    "            str: the newName parameter\r\n",
    "        \"\"\"\r\n",
    "        self._name = newName\r\n",
    "        return newName\r\n",
    "\r\n",
    "    def setPetalNumber(self, newPetalNumber :int) -> int :\r\n",
    "        \"\"\"Changes the number of petals of the flower\r\n",
    "\r\n",
    "        Args:\r\n",
    "            newPetalNumber (int): the new number of petals of the flower\r\n",
    "\r\n",
    "        Returns:\r\n",
    "            int: the newPetalNumber parameter\r\n",
    "        \"\"\"\r\n",
    "        self._petalNumber = newPetalNumber\r\n",
    "        return newPetalNumber\r\n",
    "\r\n",
    "    def setPrice(self, newPrice : float) -> float :\r\n",
    "        \"\"\"Changes the price of the flower\r\n",
    "\r\n",
    "        Args:\r\n",
    "            newPrice (float): the new price of the flower\r\n",
    "\r\n",
    "        Returns:\r\n",
    "            float: the newPrice parameter\r\n",
    "        \"\"\"\r\n",
    "        self._price = newPrice\r\n",
    "        return newPrice\r\n"
   ],
   "outputs": [],
   "metadata": {}
  },
  {
   "cell_type": "markdown",
   "source": [
    "## Exercise 2 & 3"
   ],
   "metadata": {}
  },
  {
   "cell_type": "code",
   "execution_count": null,
   "source": [
    "    def charge(self, price):\r\n",
    "        \"\"\"Charge given price to the card, assuming sufficient credit limit.\r\n",
    "    \r\n",
    "        Return True if charge was processed; False if charge was denied.\r\n",
    "        \"\"\"\r\n",
    "        if isinstance(price, (int, float)):\r\n",
    "        \r\n",
    "            if price + self._balance > self._limit: # if charge would exceed limit,\r\n",
    "                return False # cannot accept charge\r\n",
    "            else:\r\n",
    "                self._balance += price\r\n",
    "            return True\r\n",
    "        else:\r\n",
    "            raise TypeError(\"Please enter a number\")\r\n",
    "\r\n",
    "    def make_payment(self, amount):\r\n",
    "        \"\"\"Process customer payment that reduces balance.\"\"\"\r\n",
    "        if isinstance(amount, (int, float)):\r\n",
    "            if amount > 0:\r\n",
    "                self._balance -= amount\r\n",
    "            else:\r\n",
    "                raise ValueError(\"Please input a positive number\")\r\n",
    "        else:\r\n",
    "            raise TypeError(\"Please enter a number\")"
   ],
   "outputs": [],
   "metadata": {}
  }
 ],
 "metadata": {
  "kernelspec": {
   "display_name": "Python 3",
   "language": "python",
   "name": "python3"
  },
  "language_info": {
   "codemirror_mode": {
    "name": "ipython",
    "version": 3
   },
   "file_extension": ".py",
   "mimetype": "text/x-python",
   "name": "python",
   "nbconvert_exporter": "python",
   "pygments_lexer": "ipython3",
   "version": "3.8.8"
  }
 },
 "nbformat": 4,
 "nbformat_minor": 2
}