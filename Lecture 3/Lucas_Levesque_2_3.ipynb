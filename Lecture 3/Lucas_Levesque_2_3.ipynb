{
 "cells": [
  {
   "cell_type": "markdown",
   "source": [
    "# Exercise 1"
   ],
   "metadata": {}
  },
  {
   "cell_type": "markdown",
   "source": [
    "![Exercise 1 answer](Exercise_1.png)"
   ],
   "metadata": {}
  },
  {
   "cell_type": "markdown",
   "source": [
    "# Exercise 2"
   ],
   "metadata": {}
  },
  {
   "cell_type": "code",
   "execution_count": null,
   "source": [
    "def stringReverse(s: str) -> str:\r\n",
    "    \"\"\"Reverses a string, recursively\r\n",
    "\r\n",
    "    Args:\r\n",
    "        s (str): The string to reverse\r\n",
    "\r\n",
    "    Returns:\r\n",
    "        str: The reversed string\r\n",
    "    \"\"\"\r\n",
    "    if len(s) == 0:\r\n",
    "        return \"\"\r\n",
    "    else:\r\n",
    "        return stringReverse(s[1:]) + s[0]"
   ],
   "outputs": [],
   "metadata": {}
  },
  {
   "cell_type": "code",
   "execution_count": null,
   "source": [
    "testString = \"pots&pans\"\r\n",
    "print(stringReverse(testString))"
   ],
   "outputs": [],
   "metadata": {}
  },
  {
   "cell_type": "markdown",
   "source": [
    "# Exercise 3"
   ],
   "metadata": {}
  },
  {
   "cell_type": "code",
   "execution_count": 2,
   "source": [
    "def productRecursive(m: float, n: float) -> float:\r\n",
    "    \"\"\"Recursively computes the product of two numbers using only addition and substraction\r\n",
    "\r\n",
    "    Args:\r\n",
    "        m (float): The left member of the multiplication\r\n",
    "        n (float): The right member of the multiplication\r\n",
    "\r\n",
    "    Returns:\r\n",
    "        float: The result of the multiplication\r\n",
    "    \"\"\"\r\n",
    "    if n == 1:\r\n",
    "        return m\r\n",
    "    elif n==0 or m == 0:\r\n",
    "        return 0\r\n",
    "    else:\r\n",
    "        return productRecursive(m, n - 1) + m\r\n",
    "\r\n",
    "productRecursive(2,3)"
   ],
   "outputs": [
    {
     "output_type": "execute_result",
     "data": {
      "text/plain": [
       "6"
      ]
     },
     "metadata": {},
     "execution_count": 2
    }
   ],
   "metadata": {}
  }
 ],
 "metadata": {
  "orig_nbformat": 4,
  "language_info": {
   "name": "python",
   "version": "3.9.7",
   "mimetype": "text/x-python",
   "codemirror_mode": {
    "name": "ipython",
    "version": 3
   },
   "pygments_lexer": "ipython3",
   "nbconvert_exporter": "python",
   "file_extension": ".py"
  },
  "kernelspec": {
   "name": "python3",
   "display_name": "Python 3.9.7 64-bit"
  },
  "interpreter": {
   "hash": "3b42cc9805aa31b4e2b37df87ff266f4286369cf61f47a52a8e77ffede5c081b"
  }
 },
 "nbformat": 4,
 "nbformat_minor": 2
}