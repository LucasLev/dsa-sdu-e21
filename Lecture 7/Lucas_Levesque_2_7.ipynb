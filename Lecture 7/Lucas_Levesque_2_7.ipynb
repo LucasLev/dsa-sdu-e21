{
 "cells": [
  {
   "cell_type": "markdown",
   "metadata": {},
   "source": [
    "**Ex.1**\n",
    "\n",
    "Given the following list of numbers: [21, 1, 26, 45, 29, 28, 2, 9, 16, 49, 39, 27, 43, 34, 46, 40] which answer illustrates the list to be sorted after 3 recursive calls to mergesort? You should explain your answer.\n",
    "\n",
    "1. [16, 49, 39, 27, 43, 34, 46, 40]\n",
    "\n",
    "2. [21, 1]\n",
    "\n",
    "3. [21, 1, 26, 45]\n",
    "\n",
    "4. [21]\n"
   ]
  },
  {
   "cell_type": "markdown",
   "metadata": {},
   "source": [
    "![A drawing detailing the different calls made by the merge sort algorithm](Merge_Sort_Lucas_Levesque.png)"
   ]
  },
  {
   "cell_type": "markdown",
   "metadata": {},
   "source": [
    "After 3 recursive calls, we can see that the list S to sort is reduced to [21]\n",
    "\n",
    "Answer : 4.[21]"
   ]
  },
  {
   "cell_type": "markdown",
   "metadata": {},
   "source": [
    "**Ex.2**\n",
    "\n",
    "Given the following list of numbers: [21, 1, 26, 45, 29, 28, 2, 9, 16, 49, 39, 27, 43, 34, 46, 40]\n",
    "which answer illustrates the first two lists to be merged? You should explain your answer.\n",
    "\n",
    "1. [21, 1] and [26, 45]\n",
    "\n",
    "2. [[1, 2, 9, 21, 26, 28, 29, 45] and [16, 27, 34, 39, 40, 43, 46, 49]\n",
    "\n",
    "3. [21] and [1]\n",
    "\n",
    "4. [9] and [16]"
   ]
  },
  {
   "cell_type": "markdown",
   "metadata": {},
   "source": [
    "Given the execution tree (see answer to question 1), we can see that the first two lists to be merged will be [21] & [1]\n",
    "\n",
    "Answer : 3. [21] and [1]"
   ]
  },
  {
   "cell_type": "markdown",
   "metadata": {},
   "source": [
    "**Ex.3**\n",
    "\n",
    "Please implement the merge-sort algorithm in a nonrecursive way."
   ]
  },
  {
   "cell_type": "code",
   "execution_count": null,
   "metadata": {},
   "outputs": [],
   "source": [
    "from math import ceil\n",
    "\n",
    "\n",
    "def mergeSortNoRecursion(A: list):\n",
    "    \"\"\"Sorts a list of number using mergeSort in a non recursive way\n",
    "\n",
    "    Args:\n",
    "        A (list): the list to sort\n",
    "    \"\"\"\n",
    "    width = 1\n",
    "    while width < len(A) * 2:\n",
    "        for a, i in [\n",
    "            (A[i : i + width], i) for i in range(0, len(A), width)\n",
    "        ]:  # this splits the list into smaller sublists of length : width (we need to keep i to rewrite on the table after)\n",
    "            \"\"\"a is a list made out of the two (sorted) sublists we have to merge :\n",
    "             one is the leftmost part and the other is the rightmost part\n",
    "            (the ceil function is necessary to keep consistence with the way the a is created)\"\"\"\n",
    "            merge(a[: ceil(len(a) / 2)], a[ceil(len(a) / 2) :], a)\n",
    "            A[\n",
    "                i : i + width\n",
    "            ] = a  # Modifying A in consequence (I am honestly surprised you can assign value to slices and it works)\n",
    "        width *= 2\n",
    "\n",
    "\n",
    "def merge(S1, S2, S):\n",
    "    \"\"\"Merge two sorted Python lists S1 and S2 into properly sized list S.\"\"\"\n",
    "    i = j = 0\n",
    "    while i + j < len(S):\n",
    "        if j == len(S2) or (i < len(S1) and S1[i] < S2[j]):\n",
    "            S[i + j] = S1[i]  # copy ith element of S1 as next item of S\n",
    "            i += 1\n",
    "        else:\n",
    "            S[i + j] = S2[j]  # copy jth element of S2 as next item of S\n",
    "            j += 1\n",
    "\n",
    "\n",
    "A = [21, 1, 26, 45, 29, 28, 2, 9, 16, 49, 39, 27, 43, 34, 46, 40, 63]\n",
    "mergeSortNoRecursion(A)\n",
    "print(A)\n",
    "\n",
    "B = [\n",
    "    1,\n",
    "    4,\n",
    "    3,\n",
    "]  # this one caused a lot of trouble, my splitting loop kept making it [1],[4,3] so the merge failed\n",
    "mergeSortNoRecursion(B)\n",
    "print(B)\n",
    "\n",
    "C = [2, 1]\n",
    "mergeSortNoRecursion(C)\n",
    "print(C)"
   ]
  }
 ],
 "metadata": {
  "interpreter": {
   "hash": "3a4565eb6215a326995d9cfd00f1782ebb9ab334d122fb684360bfee2e0fdc62"
  },
  "kernelspec": {
   "display_name": "Python 3.10.0 64-bit",
   "name": "python3"
  },
  "language_info": {
   "name": "python",
   "version": "3.10.0"
  },
  "orig_nbformat": 4
 },
 "nbformat": 4,
 "nbformat_minor": 2
}
