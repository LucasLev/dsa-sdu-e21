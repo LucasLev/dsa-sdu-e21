{
 "cells": [
  {
   "cell_type": "markdown",
   "source": [
    "**Ex1.**\r\n",
    "\r\n",
    "Implement a pop method for the DynamicArray class, given in Code Fragment 5.3, that removes the last element of the array, and that shrinks the capacity, *N*, of the array by half any time the number of elements in the\r\n",
    "array goes below *N/4*."
   ],
   "metadata": {}
  },
  {
   "cell_type": "code",
   "execution_count": 38,
   "source": [
    "import ctypes  # provides low-level arrays\n",
    "\n",
    "\n",
    "class DynamicArray:\n",
    "    \"\"\"A dynamic array class akin to a simplified Python list.\"\"\"\n",
    "\n",
    "    def __init__(self):\n",
    "        \"\"\"Create an empty array.\"\"\"\n",
    "        self._n = 0  # count actual elements\n",
    "        self._capacity = 1  # default array capacity\n",
    "        self._A = self._make_array(self._capacity)  # low-level array\n",
    "\n",
    "    def len(self):\n",
    "        \"\"\"Return number of elements stored in the array.\"\"\"\n",
    "        return self._n\n",
    "\n",
    "    def __getitem__(self, k):\n",
    "        \"\"\"Return element at index k.\"\"\"\n",
    "        if not 0 <= k < self._n:\n",
    "            raise IndexError(\"invalid index\")\n",
    "        return self._A[k]  # retrieve from array\n",
    "\n",
    "    def append(self, obj):\n",
    "        \"\"\"Add object to end of the array.\"\"\"\n",
    "        if self._n == self._capacity:  # not enough room\n",
    "            self._resize(2 * self._capacity)  # so double capacity\n",
    "        self._A[self._n] = obj\n",
    "        self._n += 1\n",
    "\n",
    "    def _resize(self, c):  # nonpublic utitity\n",
    "        \"\"\"Resize internal array to capacity c.\"\"\"\n",
    "        B = self._make_array(c)  # new (bigger) array\n",
    "        for k in range(self._n):  # for each existing value\n",
    "            B[k] = self._A[k]\n",
    "        self._A = B  # use the bigger array\n",
    "        self._capacity = c\n",
    "\n",
    "    def _make_array(self, c):  # nonpublic utitity\n",
    "        \"\"\"Return new array with capacity c.\"\"\"\n",
    "        return (c * ctypes.py_object)()  # see ctypes documentation\n",
    "\n",
    "    def pop(self) -> object:\n",
    "        \"\"\"Pops the last value of the list, and shrink it in half it if its current number of element is under a quarter of its total capacity\n",
    "\n",
    "        Returns:\n",
    "            object: the popped element\n",
    "        \"\"\"\n",
    "        self._n -= 1\n",
    "        tmp = self._A[self._n]\n",
    "        self._A[self._n] = \"\"\n",
    "        if self._n <= self._capacity / 4:\n",
    "            self._resize(self._capacity // 2)\n",
    "        return tmp\n",
    "\n",
    "    def __str__(self) -> str:\n",
    "        return f\"{[self[i] for i in range(self._n) ]}\""
   ],
   "outputs": [],
   "metadata": {}
  },
  {
   "cell_type": "code",
   "execution_count": 39,
   "source": [
    "A = DynamicArray()\n",
    "for i in range(5):\n",
    "    A.append(i)\n",
    "print(A)\n",
    "print(f\"capacity: {A._capacity}\")\n",
    "print(A.pop())\n",
    "print(A)\n",
    "print(f\"capacity: {A._capacity}\")\n",
    "for i in range(2):\n",
    "    A.pop()\n",
    "print(A)\n",
    "print(f\"capacity: {A._capacity}\")"
   ],
   "outputs": [
    {
     "output_type": "stream",
     "name": "stdout",
     "text": [
      "[0, 1, 2, 3, 4]\n",
      "capacity: 8\n",
      "4\n",
      "[0, 1, 2, 3]\n",
      "capacity: 8\n",
      "[0, 1]\n",
      "capacity: 4\n"
     ]
    }
   ],
   "metadata": {}
  }
 ],
 "metadata": {
  "orig_nbformat": 4,
  "language_info": {
   "name": "python",
   "version": "3.10.0",
   "mimetype": "text/x-python",
   "codemirror_mode": {
    "name": "ipython",
    "version": 3
   },
   "pygments_lexer": "ipython3",
   "nbconvert_exporter": "python",
   "file_extension": ".py"
  },
  "kernelspec": {
   "name": "python3",
   "display_name": "Python 3.10.0 64-bit"
  },
  "interpreter": {
   "hash": "3a4565eb6215a326995d9cfd00f1782ebb9ab334d122fb684360bfee2e0fdc62"
  }
 },
 "nbformat": 4,
 "nbformat_minor": 2
}