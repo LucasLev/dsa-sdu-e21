{
 "cells": [
  {
   "cell_type": "markdown",
   "metadata": {},
   "source": [
    "Does this always produce the same result as the original version? Justify your answer."
   ]
  },
  {
   "cell_type": "code",
   "execution_count": null,
   "metadata": {},
   "outputs": [],
   "source": [
    "def _find_index_exercise(self, k, low, high):\n",
    "    if high < low:\n",
    "        return high + 1\n",
    "    else:\n",
    "        mid = (low + high) // 2\n",
    "        if self._table[mid]._key < k:\n",
    "            return self._find_index(k, mid + 1, high)\n",
    "        else:\n",
    "            return self._find_index(k, low, mid - 1)\n",
    "\n",
    "def _find_index_course(self, k, low, high):\n",
    "    \"\"\"Return index of the leftmost item with key greater than or equal to k.\n",
    "    \n",
    "    Return high + 1 if no such item qualifies.\n",
    "    \n",
    "    That is, j will be returned such that:\n",
    "        all items of slice table[low:j] have key < k\n",
    "        all items of slice table[j:high+1] have key >= k\n",
    "    \"\"\"\n",
    "    if high < low:\n",
    "        return high + 1 # no element qualifies\n",
    "    else:\n",
    "        mid = (low + high) // 2\n",
    "        if k == self._table[mid]._key:\n",
    "            return mid # found exact match\n",
    "        elif k < self._table[mid]._key:\n",
    "            return self._find_index(k, low, mid - 1) # Note: may return mid\n",
    "        else:\n",
    "            return self._find_index(k, mid + 1, high) # answer is right of mid"
   ]
  },
  {
   "cell_type": "markdown",
   "metadata": {},
   "source": [
    "The first version might some time miss the solution if it is perfectly in the middle, as it never checks if k==self._table[mid]"
   ]
  }
 ],
 "metadata": {
  "language_info": {
   "name": "python"
  },
  "orig_nbformat": 4
 },
 "nbformat": 4,
 "nbformat_minor": 2
}
