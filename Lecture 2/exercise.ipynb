{
 "cells": [
  {
   "cell_type": "markdown",
   "source": [
    "# **Ex1.** \r\n",
    "\r\n",
    "Write a Python program to simulate an ecosystem containing two types of creatures, **_bears_** and **_fish_**. The ecosystem consists of a river, which is modeled as a relatively large list. Each element of the list should be a _Bear_ object, a _Fish_ object, or _None_. In each time step, based on a random process, each animal either attempts to move into an adjacent list location or stay where it is. If two animals of the same type are about to collide in the same cell, then they stay where they are, but they create a new instance of that type of animal, which is placed in a random empty (i.e., previously _None_) location in the list. If a _bear_ and a _fish_ collide, however, then the fish died (i.e., it disappears).\r\n",
    "\r\n",
    "**Hint:** \r\n",
    "\r\n",
    "1. You should first define ``Creature`` and its subclasses; ``Bear`` and ``Fish``.\r\n",
    "2. Then, you need to make your ecosystem, ``River`` class."
   ],
   "metadata": {}
  },
  {
   "cell_type": "code",
   "execution_count": 4,
   "source": [
    "from abc import ABCMeta, abstractmethod\r\n",
    "\r\n",
    "\r\n",
    "class Creature(metaclass=ABCMeta):\r\n",
    "    ### YOUR CODE HERE\r\n",
    "    def __init__(self, riv:River, pos:int=0) -> None:\r\n",
    "        \"\"\"Creates a new creature object\r\n",
    "\r\n",
    "        Args:\r\n",
    "            riv (River): The home river of the creature.\r\n",
    "            pos (int, optional): The position of the creature in its river. Defaults to 0.\r\n",
    "        \"\"\"\r\n",
    "        self._river=riv\r\n",
    "        self._pos=pos\r\n",
    "        pass\r\n",
    "\r\n",
    "\r\n",
    "class Bear(Creature):\r\n",
    "    ### YOUR CODE HERE\r\n",
    "    pass\r\n",
    "\r\n",
    "\r\n",
    "class Fish(Creature):\r\n",
    "    ### YOUR CODE HERE\r\n",
    "    pass\r\n"
   ],
   "outputs": [],
   "metadata": {}
  },
  {
   "cell_type": "code",
   "execution_count": 1,
   "source": [
    "class River:\r\n",
    "\r\n",
    "    def __init__(self, n):\r\n",
    "        self.n = n          # Size of the ecosystem\r\n",
    "        self.eco = None     # Initialize the ecosystem\r\n",
    "\r\n",
    "    ### YOUR CODE HERE\r\n"
   ],
   "outputs": [],
   "metadata": {}
  }
 ],
 "metadata": {
  "orig_nbformat": 4,
  "language_info": {
   "name": "python",
   "version": "3.9.7",
   "mimetype": "text/x-python",
   "codemirror_mode": {
    "name": "ipython",
    "version": 3
   },
   "pygments_lexer": "ipython3",
   "nbconvert_exporter": "python",
   "file_extension": ".py"
  },
  "kernelspec": {
   "name": "python3",
   "display_name": "Python 3.9.7 64-bit"
  },
  "interpreter": {
   "hash": "3b42cc9805aa31b4e2b37df87ff266f4286369cf61f47a52a8e77ffede5c081b"
  }
 },
 "nbformat": 4,
 "nbformat_minor": 2
}