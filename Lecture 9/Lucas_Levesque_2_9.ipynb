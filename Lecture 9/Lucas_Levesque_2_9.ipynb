{
 "cells": [
  {
   "cell_type": "markdown",
   "metadata": {},
   "source": [
    "## Ex1\n",
    "\n",
    "What would be a good hash code for a vehicle identification number that is a string of numbers and letters of the form “9X9XX99X9XX999999”, where a “9” represents a digit and an “X” represents a letter?"
   ]
  },
  {
   "cell_type": "markdown",
   "metadata": {},
   "source": [
    "For this application, we could use a polynomial hash code : as we have a good alternance of number of letter (no cycles involved) the order is really important."
   ]
  },
  {
   "cell_type": "markdown",
   "metadata": {},
   "source": [
    "## Ex2\n",
    "\n",
    "![a screenshot of the excel file I used to answer the question](Ex_2.png)\n",
    "\n",
    "[My excel file](Lucas_Levesque_ex_2.xlsx)"
   ]
  },
  {
   "cell_type": "markdown",
   "metadata": {},
   "source": [
    "## Ex3\n",
    "\n",
    "What is the worst-case time for putting n entries in an initially empty hash table, with collisions resolved by chaining? What is the best case? Please explain.\n",
    "\n",
    "### Best case scenario\n",
    "\n",
    "In the best case scenario, we don't have any collisions. Then, it is similar to adding items into a regular array : $O(1)$ for each item, total : $O(n)$\n",
    "\n",
    "### Worst case scenario\n",
    "\n",
    "In the worst case scenario, all the items have collisions. In this case, all the items are in the same bucket. As we resolve this by chaining, it means that all the items are inside a list. Adding an item to the bucket is thus $O(n)$, so for total : $O(n^2)$"
   ]
  }
 ],
 "metadata": {
  "language_info": {
   "name": "python"
  },
  "orig_nbformat": 4
 },
 "nbformat": 4,
 "nbformat_minor": 2
}
