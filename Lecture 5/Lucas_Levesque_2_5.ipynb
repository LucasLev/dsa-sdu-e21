{
 "cells": [
  {
   "cell_type": "code",
   "execution_count": null,
   "metadata": {},
   "outputs": [],
   "source": [
    "class ArrayStack:\n",
    "    \"\"\"LIFO Stack implementation using a Python list as underlying storage.\"\"\"\n",
    "\n",
    "    def __init__(self):\n",
    "        \"\"\"Create an empty stack.\"\"\"\n",
    "        self._data = []  # nonpublic list instance\n",
    "\n",
    "    def __len__(self):\n",
    "        \"\"\"Return the number of elements in the stack.\"\"\"\n",
    "        return len(self._data)\n",
    "\n",
    "    def is_empty(self):\n",
    "        \"\"\"Return True if the stack is empty.\"\"\"\n",
    "        return len(self._data) == 0\n",
    "\n",
    "    def push(self, e):\n",
    "        \"\"\"Add element e to the top of the stack.\"\"\"\n",
    "        self._data.append(e)  # new item stored at end of list\n",
    "\n",
    "    def top(self):\n",
    "        \"\"\"Return (but do not remove) the element at the top of the stack.\n",
    "\n",
    "        Raise Empty exception if the stack is empty.\n",
    "        \"\"\"\n",
    "        if self.is_empty():\n",
    "            raise Empty(\"Stack is empty\")\n",
    "        return self._data[-1]  # the last item in the list\n",
    "\n",
    "    def pop(self):\n",
    "        \"\"\"Remove and return the element from the top of the stack (i.e., LIFO).\n",
    "\n",
    "        Raise Empty exception if the stack is empty.\n",
    "        \"\"\"\n",
    "        if self.is_empty():\n",
    "            raise Empty(\"Stack is empty\")\n",
    "        return self._data.pop()  # remove last item from list\n",
    "\n",
    "    def __getitem__(self, k: int) -> object:\n",
    "        return self._data[k]\n",
    "\n",
    "    def __str__(self) -> str:\n",
    "        return str(self._data)"
   ]
  },
  {
   "cell_type": "markdown",
   "metadata": {},
   "source": [
    "**Ex1.** \n",
    "\n",
    "Implement a function that reverses a list of elements by pushing them onto a stack in one order, and writing them back to the list in reversed order."
   ]
  },
  {
   "cell_type": "code",
   "execution_count": null,
   "metadata": {},
   "outputs": [],
   "source": [
    "def reverse_stack(l: list) -> list:\n",
    "    \"\"\"Reverses a list by using a stack\n",
    "\n",
    "    Args:\n",
    "        l (list): The list to reverse\n",
    "\n",
    "    Returns:\n",
    "        list: The reversed list\n",
    "    \"\"\"\n",
    "    s = ArrayStack()\n",
    "    for e in l:\n",
    "        s.push(e)\n",
    "    return [s.pop() for i in range(len(s))]"
   ]
  },
  {
   "cell_type": "code",
   "execution_count": null,
   "metadata": {},
   "outputs": [],
   "source": [
    "print(reverse_stack(\"Test\"))"
   ]
  },
  {
   "cell_type": "markdown",
   "metadata": {},
   "source": [
    "**Ex2.** \n",
    "\n",
    "Implement a function called ``transfer(S, T)`` that transfers all elements from stack *S* onto stack *T*, so that the element that starts at the top of *S* is the first to be inserted onto *T*, and the element at the bottom of *S* ends up at the top of *T*. \n",
    "\n",
    "Then, use this function along with the ``ArrayStack`` class, which has already been defined in the lecture to test the implementation of your ``transfer(S, T)`` function by printing out *S* and *T* after applying the ``transfer(S, T)`` function."
   ]
  },
  {
   "cell_type": "code",
   "execution_count": null,
   "metadata": {},
   "outputs": [],
   "source": [
    "def transfer(S: ArrayStack, T: ArrayStack) -> None:\n",
    "    \"\"\"Transfer the content from S to T in a way that the bottom element of S became the top element of T\n",
    "\n",
    "    Args:\n",
    "        S (ArrayStack): The sending stack\n",
    "        T (ArrayStack): The receiving stack\n",
    "    \"\"\"\n",
    "    for loop in range(len(S)):\n",
    "        T.push(S.pop())"
   ]
  },
  {
   "cell_type": "code",
   "execution_count": null,
   "metadata": {},
   "outputs": [],
   "source": [
    "# Testing\n",
    "A = ArrayStack()\n",
    "A.push(3)\n",
    "A.push(2)\n",
    "B = ArrayStack()\n",
    "B.push(1)\n",
    "\n",
    "print(f\"A : {A}\")\n",
    "print(f\"B : {B}\")\n",
    "\n",
    "transfer(B, A)\n",
    "\n",
    "print(\"After transfer\")\n",
    "print(f\"A : {A}\")\n",
    "print(f\"B : {B}\")"
   ]
  }
 ],
 "metadata": {
  "interpreter": {
   "hash": "3a4565eb6215a326995d9cfd00f1782ebb9ab334d122fb684360bfee2e0fdc62"
  },
  "kernelspec": {
   "display_name": "Python 3.10.0 64-bit",
   "name": "python3"
  },
  "language_info": {
   "codemirror_mode": {
    "name": "ipython",
    "version": 3
   },
   "file_extension": ".py",
   "mimetype": "text/x-python",
   "name": "python",
   "nbconvert_exporter": "python",
   "pygments_lexer": "ipython3",
   "version": "3.10.0"
  },
  "orig_nbformat": 4
 },
 "nbformat": 4,
 "nbformat_minor": 2
}
